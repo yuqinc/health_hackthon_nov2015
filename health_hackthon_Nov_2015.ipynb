{
 "cells": [
  {
   "cell_type": "markdown",
   "metadata": {},
   "source": [
    "# Health hackthon CMS data"
   ]
  },
  {
   "cell_type": "code",
   "execution_count": 5,
   "metadata": {
    "collapsed": false
   },
   "outputs": [],
   "source": [
    "import pandas as pd\n",
    "import pymysql\n",
    "import pandas.io.sql as sql"
   ]
  },
  {
   "cell_type": "markdown",
   "metadata": {},
   "source": [
    "## Import data from sql using pymysql"
   ]
  },
  {
   "cell_type": "markdown",
   "metadata": {},
   "source": [
    "### The data was stored temporarily in Amazon Web Services (AWS) - Cloud Computing Services"
   ]
  },
  {
   "cell_type": "code",
   "execution_count": 1,
   "metadata": {
    "collapsed": false
   },
   "outputs": [
    {
     "name": "stdout",
     "output_type": "stream",
     "text": [
      "starting call to sql\n",
      "\n",
      "finished processing ask\n",
      "\n"
     ]
    }
   ],
   "source": [
    "\"\"\"examples \n",
    "\"\"\"\n",
    "# This code gives an example of how to use pandas to read\n",
    "# one of the datasets into a dataframe\n",
    "\n",
    "import pymysql\n",
    "import pandas.io.sql as sql\n",
    "import pandas as pd\n",
    "\n",
    "# first connect to the database\n",
    "cnxn = pymysql.connect(host='health-db-internet.c6clocfz5zxy.us-east-1.rds.amazonaws.com',\n",
    "                       port=3306,\n",
    "                       user='data_hacker',\n",
    "                       passwd='hack_pw')\n",
    "\n",
    "# For example, let's figure out how much each state paid in 2014 for Allopathic care\n",
    "sql_command = \\\n",
    "'select distinct(d.Recipient_State), '\\\n",
    "    'avg(d.Total_Amount_of_Payment_USDollars) '\\\n",
    "    'from CMS_open_payments_2014.general_payment_data d '\\\n",
    "    'where d.Physician_Specialty like \\'{}\\' '\\\n",
    "        'group by d.Physician_Specialty, d.Recipient_State;'.format('%Allopathic%')\n",
    "\n",
    "# This one line does it all!\n",
    "print 'starting call to sql'\n",
    "df = sql.read_sql(sql_command, cnxn)\n",
    "print '\\nfinished processing ask\\n'\n",
    "\n",
    "# now do your favorite pandas stuff.."
   ]
  },
  {
   "cell_type": "markdown",
   "metadata": {},
   "source": [
    "### Table 1 is physician information\n",
    "### This code gives an example of how to use pandas to read one of the datasets into a dataframe\n"
   ]
  },
  {
   "cell_type": "code",
   "execution_count": 4,
   "metadata": {
    "collapsed": false
   },
   "outputs": [
    {
     "name": "stdout",
     "output_type": "stream",
     "text": [
      "starting call to sql\n",
      "physician info\n",
      "\n",
      "finished processing ask\n",
      "\n"
     ]
    }
   ],
   "source": [
    "import pymysql\n",
    "import pandas.io.sql as sql\n",
    "import pandas as pd\n",
    "\n",
    "# first connect to the database\n",
    "conn = pymysql.connect(host='health-db-internet.c6clocfz5zxy.us-east-1.rds.amazonaws.com',\n",
    "                       port=3306,\n",
    "                       user='data_hacker',\n",
    "                       passwd='hack_pw')\n",
    "\n",
    "# For example, let's figure out how much each state paid in 2014 for Allopathic care\n",
    "sql_command = \\\n",
    "'select d.Record_ID, d.Physician_Profile_ID from CMS_open_payments_2014.general_payment_data d '                                                                                                                                        \n",
    "# cleanup the zipcode to 5 digs      \n",
    "# This one line does it all!\n",
    "print 'starting call to sql'\n",
    "print 'physician info'  \n",
    "df_tb1 = sql.read_sql(sql_command,conn)\n",
    "df_tb1[:5]\n",
    "print '\\nfinished processing ask\\n'"
   ]
  },
  {
   "cell_type": "markdown",
   "metadata": {},
   "source": [
    "#### Request the data from aws and preview the results "
   ]
  },
  {
   "cell_type": "markdown",
   "metadata": {
    "collapsed": false
   },
   "source": [
    "##### Ideally, I would request the following columns from the dataframe in Amazon Web Services. However, my laptop is very slow and process  so many columns takes a very long time.  Here is the code anyway. \n",
    "##### select d.Record_ID, d.Physician_Profile_ID, d.Physician_First_Name, d.Physician_Last_Name, d.Recipient_Zip_Code, \n",
    "##### d.Physician_Primary_Type, d.Physician_Specialty, d.Recipient_State \n",
    "##### from CMS_open_payments_2014.general_payment_data d '\\  "
   ]
  },
  {
   "cell_type": "markdown",
   "metadata": {},
   "source": [
    "### Table 2 is about transaction information"
   ]
  },
  {
   "cell_type": "code",
   "execution_count": 6,
   "metadata": {
    "collapsed": false
   },
   "outputs": [
    {
     "name": "stdout",
     "output_type": "stream",
     "text": [
      "transaction info\n",
      "starting call to sql\n",
      "\n",
      "finished processing ask\n",
      "\n"
     ]
    }
   ],
   "source": [
    "# For example, let's figure out how much each state paid in 2014 for Allopathic care\n",
    "sql_command = \\\n",
    "'select d.Record_ID, d.Physician_Profile_ID, d.Teaching_Hospital_ID, d.Total_Amount_of_Payment_USDollars, d.Third_Party_Equals_Covered_Recipient_Indicator, d.Date_of_Payment, d.Number_of_Payments_Included_in_Total_Amount,d.Form_of_Payment_or_Transfer_of_Value,d.Nature_of_Payment_or_Transfer_of_Value from CMS_open_payments_2014.general_payment_data d '                         \n",
    "print 'transaction info'\n",
    "print 'starting call to sql' \n",
    "df_tb2 = sql.read_sql(sql_command,conn)\n",
    "print '\\nfinished processing ask\\n'"
   ]
  },
  {
   "cell_type": "markdown",
   "metadata": {},
   "source": [
    "### Table 3 is about hospital information"
   ]
  },
  {
   "cell_type": "code",
   "execution_count": null,
   "metadata": {
    "collapsed": false
   },
   "outputs": [],
   "source": [
    "# For example, let's figure out how much each state paid in 2014 for Allopathic care\n",
    "sql_command = \\\n",
    "'select d.Record_ID, d.Recipient_State, d.Teaching_Hospital_ID, d.Recipient_Zip_Code, d.Teaching_Hospital_Name from CMS_open_payments_2014.general_payment_data d '\n",
    "\n",
    "print 'hospital info'\n",
    "print 'starting call to sql'\n",
    "df_tb3 = sql.read_sql(sql_command,conn)\n",
    "print '\\nfinished processing ask\\n'\n"
   ]
  },
  {
   "cell_type": "markdown",
   "metadata": {
    "collapsed": false
   },
   "source": [
    "### Table4: Manu/GPO info\n",
    "\n",
    "\"Record_ID\"  \n",
    "\"Submitting_Applicable_Manufacturer_or_Applicable_GPO_Name\"\n",
    "\"Total_Amount_of_Payment_USDollars\" \n",
    "\"Physician_Ownership_Indicator\"\n"
   ]
  },
  {
   "cell_type": "markdown",
   "metadata": {},
   "source": [
    "### Table 5 is total amount of payment grouped by states"
   ]
  },
  {
   "cell_type": "code",
   "execution_count": 7,
   "metadata": {
    "collapsed": false,
    "scrolled": true
   },
   "outputs": [
    {
     "name": "stdout",
     "output_type": "stream",
     "text": [
      "starting call to sql\n",
      "\n",
      "finished processing ask\n",
      "\n"
     ]
    }
   ],
   "source": [
    "#which state get the most payment dollars\n",
    "sql_command5 = \\\n",
    "'select d.Recipient_State, '\\\n",
    "    'sum(d.Total_Amount_of_Payment_USDollars)  '\\\n",
    "    'from CMS_open_payments_2014.general_payment_data d '\\\n",
    "        'group by d.Recipient_State'\n",
    "\n",
    "print 'starting call to sql'\n",
    "df_tb5 = sql.read_sql(sql_command5,conn)\n",
    "print '\\nfinished processing ask\\n'"
   ]
  },
  {
   "cell_type": "markdown",
   "metadata": {},
   "source": [
    "#### Preview dataframe "
   ]
  },
  {
   "cell_type": "code",
   "execution_count": 18,
   "metadata": {
    "collapsed": false
   },
   "outputs": [
    {
     "data": {
      "text/plain": [
       "0     23621.12\n",
       "1        29.51\n",
       "2      2063.61\n",
       "3      7449.37\n",
       "4    740753.50\n",
       "Name: sum(d.Total_Amount_of_Payment_USDollars), dtype: float64"
      ]
     },
     "execution_count": 18,
     "metadata": {},
     "output_type": "execute_result"
    }
   ],
   "source": [
    "df_tb5['sum(d.Total_Amount_of_Payment_USDollars)'][:5]"
   ]
  },
  {
   "cell_type": "markdown",
   "metadata": {},
   "source": [
    "### Save dataframe results to local for future plotting"
   ]
  },
  {
   "cell_type": "code",
   "execution_count": 3,
   "metadata": {
    "collapsed": false
   },
   "outputs": [],
   "source": [
    "df_tb4.to_csv(\"./Desktop/state_total_payment\", sep='\\t')"
   ]
  },
  {
   "cell_type": "markdown",
   "metadata": {},
   "source": [
    "### Here I am going to use my local saved csv files and make some visualization plots with Seaborn and Bokeh."
   ]
  },
  {
   "cell_type": "code",
   "execution_count": 5,
   "metadata": {
    "collapsed": false
   },
   "outputs": [
    {
     "data": {
      "text/html": [
       "<div style=\"max-height:1000px;max-width:1500px;overflow:auto;\">\n",
       "<table border=\"1\" class=\"dataframe\">\n",
       "  <thead>\n",
       "    <tr style=\"text-align: right;\">\n",
       "      <th></th>\n",
       "      <th>State</th>\n",
       "      <th>Total</th>\n",
       "    </tr>\n",
       "  </thead>\n",
       "  <tbody>\n",
       "    <tr>\n",
       "      <th>10</th>\n",
       "      <td> CA</td>\n",
       "      <td> 5.804968e+08</td>\n",
       "    </tr>\n",
       "    <tr>\n",
       "      <th>43</th>\n",
       "      <td> NY</td>\n",
       "      <td> 2.276465e+08</td>\n",
       "    </tr>\n",
       "    <tr>\n",
       "      <th>54</th>\n",
       "      <td> TX</td>\n",
       "      <td> 1.721102e+08</td>\n",
       "    </tr>\n",
       "    <tr>\n",
       "      <th>15</th>\n",
       "      <td> FL</td>\n",
       "      <td> 1.364830e+08</td>\n",
       "    </tr>\n",
       "    <tr>\n",
       "      <th>27</th>\n",
       "      <td> MA</td>\n",
       "      <td> 1.204375e+08</td>\n",
       "    </tr>\n",
       "  </tbody>\n",
       "</table>\n",
       "</div>"
      ],
      "text/plain": [
       "   State         Total\n",
       "10    CA  5.804968e+08\n",
       "43    NY  2.276465e+08\n",
       "54    TX  1.721102e+08\n",
       "15    FL  1.364830e+08\n",
       "27    MA  1.204375e+08"
      ]
     },
     "execution_count": 5,
     "metadata": {},
     "output_type": "execute_result"
    }
   ],
   "source": [
    "import pandas as pd\n",
    "\n",
    "df = pd.read_csv(\"./Desktop/state_total_payment\", sep='\\t')\n",
    "df.columns = [\"Index\", \"State\",\"Total\"]\n",
    "df1=df[[\"State\",\"Total\"]]\n",
    "df2=df1.sort([\"Total\",\"State\"],ascending=[0, 0] )\n",
    "data=df2\n",
    "data.head()"
   ]
  },
  {
   "cell_type": "markdown",
   "metadata": {
    "collapsed": true
   },
   "source": [
    "#### Use Matplotlib to plot the bar chart sorted by total payments"
   ]
  },
  {
   "cell_type": "code",
   "execution_count": 6,
   "metadata": {
    "collapsed": false
   },
   "outputs": [
    {
     "data": {
      "image/png": "[encoded data removed]",
      "text/plain": [
       "<matplotlib.figure.Figure at 0x10ae77e90>"
      ]
     },
     "metadata": {},
     "output_type": "display_data"
    },
    {
     "data": {
      "image/png": "[encoded data removed]",
      "text/plain": [
       "<matplotlib.figure.Figure at 0x10aff73d0>"
      ]
     },
     "metadata": {},
     "output_type": "display_data"
    }
   ],
   "source": [
    "%matplotlib inline\n",
    "import numpy as np\n",
    "import seaborn as sns\n",
    "import matplotlib.pyplot as plt\n",
    "# Draw a barplot\n",
    "\n",
    "fig = plt.figure()\n",
    "fig.set_size_inches(12, 24)\n",
    "ax = fig.add_subplot(111)\n",
    "\n",
    "sns.set_color_codes(\"pastel\")\n",
    "sns.set(style=\"whitegrid\")\n",
    "sns.factorplot(y=\"State\", x=\"Total\",  data=data, kind=\"bar\", palette=\"muted\", ax=ax)\n",
    "\n",
    "# Add a legend and informative axis label\n",
    "ax.set(ylabel=\"State\",\n",
    "       xlabel=\"Total_Amount_of_Payment_USDollars\")\n",
    "sns.despine()"
   ]
  },
  {
   "cell_type": "markdown",
   "metadata": {},
   "source": [
    "### Bokeh bar needs columns not null; so drop the nulls.\n",
    "### Bokeh needs to explicitly list out the values to plot."
   ]
  },
  {
   "cell_type": "code",
   "execution_count": 18,
   "metadata": {
    "collapsed": false,
    "scrolled": false
   },
   "outputs": [],
   "source": [
    "from bokeh._legacy_charts import Bar, output_file, show\n",
    "from bokeh.plotting import figure, output_file, show\n",
    "from bokeh.embed import notebook_div\n",
    "from bokeh.embed import components\n",
    "\n",
    "data=df2[:10]  #only get the top 10\n",
    "total=data['Total'].astype(float).values\n",
    "state=data['State'].values.tolist() \n",
    "#total"
   ]
  },
  {
   "cell_type": "markdown",
   "metadata": {},
   "source": [
    "#### To make it simple, I only plot the top 10 states"
   ]
  },
  {
   "cell_type": "code",
   "execution_count": 25,
   "metadata": {
    "collapsed": false,
    "scrolled": true
   },
   "outputs": [
    {
     "name": "stdout",
     "output_type": "stream",
     "text": [
      "<div class=\"plotdiv\" id=\"7027c08c-eec1-4618-83e1-ce8b5fc057f8\"></div>\n",
      "/bin/sh: -c: line 0: syntax error near unexpected token `.Desktop/bar.png'\r\n",
      "/bin/sh: -c: line 0: `[title](.Desktop/bar.png)'\r\n"
     ]
    }
   ],
   "source": [
    "output_file(\"bar.html\")\n",
    "plot = figure(plot_width=800, plot_height=800)\n",
    "plot=Bar(total,state, title=\"Total Amount of Payment (USDs) of Top 10 States\",xlabel=\"State\",ylabel=\"Total Payment\")\n",
    "show(plot)\n",
    "script, div = components(plot)\n",
    "#print(script)\n",
    "print(div)"
   ]
  },
  {
   "cell_type": "code",
   "execution_count": 27,
   "metadata": {
    "collapsed": false
   },
   "outputs": [
    {
     "data": {
      "text/html": [
       "<img src=\"./Desktop/bar.png\"/>"
      ],
      "text/plain": [
       "<IPython.core.display.Image object>"
      ]
     },
     "execution_count": 27,
     "metadata": {},
     "output_type": "execute_result"
    }
   ],
   "source": [
    "from IPython.display import Image\n",
    "from IPython.core.display import HTML \n",
    "Image(url= \"./Desktop/bar.png\")"
   ]
  },
  {
   "cell_type": "markdown",
   "metadata": {},
   "source": [
    "# This part load big csv files from local downloaded files "
   ]
  },
  {
   "cell_type": "code",
   "execution_count": 30,
   "metadata": {
    "collapsed": false
   },
   "outputs": [],
   "source": [
    "df1=pd.read_csv('./Desktop/data/OP_DTL_RSRCH_PGYR2014_P06302015.csv') #load Research payment data \n",
    "df2=pd.read_csv('./Desktop/data/OP_DTL_OWNRSHP_PGYR2014_P06302015.csv') #load ownership payment data "
   ]
  },
  {
   "cell_type": "code",
   "execution_count": 41,
   "metadata": {
    "collapsed": false
   },
   "outputs": [
    {
     "data": {
      "text/plain": [
       "['Covered_Recipient_Type',\n",
       " 'Noncovered_Recipient_Entity_Name',\n",
       " 'Teaching_Hospital_ID',\n",
       " 'Teaching_Hospital_Name',\n",
       " 'Physician_Profile_ID',\n",
       " 'Physician_First_Name',\n",
       " 'Physician_Middle_Name',\n",
       " 'Physician_Last_Name',\n",
       " 'Physician_Name_Suffix',\n",
       " 'Recipient_Primary_Business_Street_Address_Line1',\n",
       " 'Recipient_Primary_Business_Street_Address_Line2',\n",
       " 'Recipient_City',\n",
       " 'Recipient_State',\n",
       " 'Recipient_Zip_Code',\n",
       " 'Recipient_Country',\n",
       " 'Recipient_Province',\n",
       " 'Recipient_Postal_Code',\n",
       " 'Physician_Primary_Type',\n",
       " 'Physician_Specialty',\n",
       " 'Physician_License_State_code1',\n",
       " 'Physician_License_State_code2',\n",
       " 'Physician_License_State_code3',\n",
       " 'Physician_License_State_code4',\n",
       " 'Physician_License_State_code5',\n",
       " 'Principal_Investigator_1_Profile_ID',\n",
       " 'Principal_Investigator_1_First_Name',\n",
       " 'Principal_Investigator_1_Middle_Name',\n",
       " 'Principal_Investigator_1_Last_Name',\n",
       " 'Principal_Investigator_1_Name_Suffix',\n",
       " 'Principal_Investigator_1_Business_Street_Address_Line1',\n",
       " 'Principal_Investigator_1_Business_Street_Address_Line2',\n",
       " 'Principal_Investigator_1_City',\n",
       " 'Principal_Investigator_1_State',\n",
       " 'Principal_Investigator_1_Zip_Code',\n",
       " 'Principal_Investigator_1_Country',\n",
       " 'Principal_Investigator_1_Province',\n",
       " 'Principal_Investigator_1_Postal_Code',\n",
       " 'Principal_Investigator_1_Primary_Type',\n",
       " 'Principal_Investigator_1_Specialty',\n",
       " 'Principal_Investigator_1_License_State_code1',\n",
       " 'Principal_Investigator_1_License_State_code2',\n",
       " 'Principal_Investigator_1_License_State_code3',\n",
       " 'Principal_Investigator_1_License_State_code4',\n",
       " 'Principal_Investigator_1_License_State_code5',\n",
       " 'Principal_Investigator_2_Profile_ID',\n",
       " 'Principal_Investigator_2_First_Name',\n",
       " 'Principal_Investigator_2_Middle_Name',\n",
       " 'Principal_Investigator_2_Last_Name',\n",
       " 'Principal_Investigator_2_Name_Suffix',\n",
       " 'Principal_Investigator_2_Business_Street_Address_Line1',\n",
       " 'Principal_Investigator_2_Business_Street_Address_Line2',\n",
       " 'Principal_Investigator_2_City',\n",
       " 'Principal_Investigator_2_State',\n",
       " 'Principal_Investigator_2_Zip_Code',\n",
       " 'Principal_Investigator_2_Country',\n",
       " 'Principal_Investigator_2_Province',\n",
       " 'Principal_Investigator_2_Postal_Code',\n",
       " 'Principal_Investigator_2_Primary_Type',\n",
       " 'Principal_Investigator_2_Specialty',\n",
       " 'Principal_Investigator_2_License_State_code1',\n",
       " 'Principal_Investigator_2_License_State_code2',\n",
       " 'Principal_Investigator_2_License_State_code3',\n",
       " 'Principal_Investigator_2_License_State_code4',\n",
       " 'Principal_Investigator_2_License_State_code5',\n",
       " 'Principal_Investigator_3_Profile_ID',\n",
       " 'Principal_Investigator_3_First_Name',\n",
       " 'Principal_Investigator_3_Middle_Name',\n",
       " 'Principal_Investigator_3_Last_Name',\n",
       " 'Principal_Investigator_3_Name_Suffix',\n",
       " 'Principal_Investigator_3_Business_Street_Address_Line1',\n",
       " 'Principal_Investigator_3_Business_Street_Address_Line2',\n",
       " 'Principal_Investigator_3_City',\n",
       " 'Principal_Investigator_3_State',\n",
       " 'Principal_Investigator_3_Zip_Code',\n",
       " 'Principal_Investigator_3_Country',\n",
       " 'Principal_Investigator_3_Province',\n",
       " 'Principal_Investigator_3_Postal_Code',\n",
       " 'Principal_Investigator_3_Primary_Type',\n",
       " 'Principal_Investigator_3_Specialty',\n",
       " 'Principal_Investigator_3_License_State_code1',\n",
       " 'Principal_Investigator_3_License_State_code2',\n",
       " 'Principal_Investigator_3_License_State_code3',\n",
       " 'Principal_Investigator_3_License_State_code4',\n",
       " 'Principal_Investigator_3_License_State_code5',\n",
       " 'Principal_Investigator_4_Profile_ID',\n",
       " 'Principal_Investigator_4_First_Name',\n",
       " 'Principal_Investigator_4_Middle_Name',\n",
       " 'Principal_Investigator_4_Last_Name',\n",
       " 'Principal_Investigator_4_Name_Suffix',\n",
       " 'Principal_Investigator_4_Business_Street_Address_Line1',\n",
       " 'Principal_Investigator_4_Business_Street_Address_Line2',\n",
       " 'Principal_Investigator_4_City',\n",
       " 'Principal_Investigator_4_State',\n",
       " 'Principal_Investigator_4_Zip_Code',\n",
       " 'Principal_Investigator_4_Country',\n",
       " 'Principal_Investigator_4_Province',\n",
       " 'Principal_Investigator_4_Postal_Code',\n",
       " 'Principal_Investigator_4_Primary_Type',\n",
       " 'Principal_Investigator_4_Specialty',\n",
       " 'Principal_Investigator_4_License_State_code1',\n",
       " 'Principal_Investigator_4_License_State_code2',\n",
       " 'Principal_Investigator_4_License_State_code3',\n",
       " 'Principal_Investigator_4_License_State_code4',\n",
       " 'Principal_Investigator_4_License_State_code5',\n",
       " 'Principal_Investigator_5_Profile_ID',\n",
       " 'Principal_Investigator_5_First_Name',\n",
       " 'Principal_Investigator_5_Middle_Name',\n",
       " 'Principal_Investigator_5_Last_Name',\n",
       " 'Principal_Investigator_5_Name_Suffix',\n",
       " 'Principal_Investigator_5_Business_Street_Address_Line1',\n",
       " 'Principal_Investigator_5_Business_Street_Address_Line2',\n",
       " 'Principal_Investigator_5_City',\n",
       " 'Principal_Investigator_5_State',\n",
       " 'Principal_Investigator_5_Zip_Code',\n",
       " 'Principal_Investigator_5_Country',\n",
       " 'Principal_Investigator_5_Province',\n",
       " 'Principal_Investigator_5_Postal_Code',\n",
       " 'Principal_Investigator_5_Primary_Type',\n",
       " 'Principal_Investigator_5_Specialty',\n",
       " 'Principal_Investigator_5_License_State_code1',\n",
       " 'Principal_Investigator_5_License_State_code2',\n",
       " 'Principal_Investigator_5_License_State_code3',\n",
       " 'Principal_Investigator_5_License_State_code4',\n",
       " 'Principal_Investigator_5_License_State_code5',\n",
       " 'Submitting_Applicable_Manufacturer_or_Applicable_GPO_Name',\n",
       " 'Applicable_Manufacturer_or_Applicable_GPO_Making_Payment_ID',\n",
       " 'Applicable_Manufacturer_or_Applicable_GPO_Making_Payment_Name',\n",
       " 'Applicable_Manufacturer_or_Applicable_GPO_Making_Payment_State',\n",
       " 'Applicable_Manufacturer_or_Applicable_GPO_Making_Payment_Country',\n",
       " 'Product_Indicator',\n",
       " 'Name_of_Associated_Covered_Drug_or_Biological1',\n",
       " 'Name_of_Associated_Covered_Drug_or_Biological2',\n",
       " 'Name_of_Associated_Covered_Drug_or_Biological3',\n",
       " 'Name_of_Associated_Covered_Drug_or_Biological4',\n",
       " 'Name_of_Associated_Covered_Drug_or_Biological5',\n",
       " 'NDC_of_Associated_Covered_Drug_or_Biological1',\n",
       " 'NDC_of_Associated_Covered_Drug_or_Biological2',\n",
       " 'NDC_of_Associated_Covered_Drug_or_Biological3',\n",
       " 'NDC_of_Associated_Covered_Drug_or_Biological4',\n",
       " 'NDC_of_Associated_Covered_Drug_or_Biological5',\n",
       " 'Name_of_Associated_Covered_Device_or_Medical_Supply1',\n",
       " 'Name_of_Associated_Covered_Device_or_Medical_Supply2',\n",
       " 'Name_of_Associated_Covered_Device_or_Medical_Supply3',\n",
       " 'Name_of_Associated_Covered_Device_or_Medical_Supply4',\n",
       " 'Name_of_Associated_Covered_Device_or_Medical_Supply5',\n",
       " 'Total_Amount_of_Payment_USDollars',\n",
       " 'Date_of_Payment',\n",
       " 'Form_of_Payment_or_Transfer_of_Value',\n",
       " 'Expenditure_Category1',\n",
       " 'Expenditure_Category2',\n",
       " 'Expenditure_Category3',\n",
       " 'Expenditure_Category4',\n",
       " 'Expenditure_Category5',\n",
       " 'Expenditure_Category6',\n",
       " 'Preclinical_Research_Indicator',\n",
       " 'Delay_in_Publication_Indicator',\n",
       " 'Name_of_Study',\n",
       " 'Dispute_Status_for_Publication',\n",
       " 'Record_ID',\n",
       " 'Program_Year',\n",
       " 'Payment_Publication_Date',\n",
       " 'ClinicalTrials_Gov_Identifier',\n",
       " 'Research_Information_Link',\n",
       " 'Context_of_Research']"
      ]
     },
     "execution_count": 41,
     "metadata": {},
     "output_type": "execute_result"
    }
   ],
   "source": [
    "#df1.ix[:3,:20]\n",
    "list(df1.columns.values)"
   ]
  },
  {
   "cell_type": "code",
   "execution_count": 65,
   "metadata": {
    "collapsed": false
   },
   "outputs": [],
   "source": [
    "#split the table into two based on covered recipient type physican and teaching hostpital \n",
    "df_phys=df1[df1['Covered_Recipient_Type'].str.contains(\"Physician\")]\n",
    "df_tech_hos=df1[df1['Covered_Recipient_Type'].str.contains(\"Teaching\")]"
   ]
  },
  {
   "cell_type": "code",
   "execution_count": 67,
   "metadata": {
    "collapsed": false
   },
   "outputs": [],
   "source": [
    "#df_phys[:5]\n",
    "#df_tech_hos[:5]"
   ]
  },
  {
   "cell_type": "code",
   "execution_count": 42,
   "metadata": {
    "collapsed": false
   },
   "outputs": [
    {
     "data": {
      "text/plain": [
       "['Physician_Profile_ID',\n",
       " 'Physician_First_Name',\n",
       " 'Physician_Middle_Name',\n",
       " 'Physician_Last_Name',\n",
       " 'Physician_Name_Suffix',\n",
       " 'Recipient_Primary_Business_Street_Address_Line1',\n",
       " 'Recipient_Primary_Business_Street_Address_Line2',\n",
       " 'Recipient_City',\n",
       " 'Recipient_State',\n",
       " 'Recipient_Zip_Code',\n",
       " 'Recipient_Country',\n",
       " 'Recipient_Province',\n",
       " 'Recipient_Postal_Code',\n",
       " 'Physician_Primary_Type',\n",
       " 'Physician_Specialty',\n",
       " 'Record_ID',\n",
       " 'Program_Year',\n",
       " 'Total_Amount_Invested_USDollars',\n",
       " 'Value_of_Interest',\n",
       " 'Terms_of_Interest',\n",
       " 'Submitting_Applicable_Manufacturer_or_Applicable_GPO_Name',\n",
       " 'Applicable_Manufacturer_or_Applicable_GPO_Making_Payment_ID',\n",
       " 'Applicable_Manufacturer_or_Applicable_GPO_Making_Payment_Name',\n",
       " 'Applicable_Manufacturer_or_Applicable_GPO_Making_Payment_State',\n",
       " 'Applicable_Manufacturer_or_Applicable_GPO_Making_Payment_Country',\n",
       " 'Dispute_Status_for_Publication',\n",
       " 'Interest_Held_by_Physician_or_an_Immediate_Family_Member',\n",
       " 'Payment_Publication_Date']"
      ]
     },
     "execution_count": 42,
     "metadata": {},
     "output_type": "execute_result"
    }
   ],
   "source": [
    "#df2.ix[:3, :20]\n",
    "list(df2.columns.values)"
   ]
  }
 ],
 "metadata": {
  "kernelspec": {
   "display_name": "Python 2",
   "language": "python",
   "name": "python2"
  },
  "language_info": {
   "codemirror_mode": {
    "name": "ipython",
    "version": 2
   },
   "file_extension": ".py",
   "mimetype": "text/x-python",
   "name": "python",
   "nbconvert_exporter": "python",
   "pygments_lexer": "ipython2",
   "version": "2.7.10"
  }
 },
 "nbformat": 4,
 "nbformat_minor": 0
}
